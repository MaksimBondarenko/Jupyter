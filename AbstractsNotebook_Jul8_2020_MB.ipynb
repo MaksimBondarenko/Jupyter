{
 "cells": [
  {
   "cell_type": "markdown",
   "metadata": {},
   "source": [
    "## Transient thermal analysis of flash-boiling cooling in the presence of high-heat-flux loads"
   ]
  },
  {
   "cell_type": "markdown",
   "metadata": {},
   "source": [
    "A flash-boiling fluid rapidly cools and expands, responding to depressurization in as little as 10-100 ms.\n",
    "The presented dynamic cooling mechanism harnesses this phenomenon. Applications include pulsed,\n",
    "high-heat-flux (~ 100 W cm$^{-2}$) devices, particularly those requiring strict temperature stability ($\\pm$5 °C)\n",
    "for a short duration (~0.1 to 10 s). A highly conductive graphitic foam is included as an extended surface.\n",
    "while enhancing phase-change phenomena. In addition to quantifying the rate of heat transfer as it varies\n",
    "spatially and temporally, the temperature stability of the surrogate heat source is evaluated. The exper-\n",
    "iments were designed using a statistical framework, allowing for the efficient generation of surrogate\n",
    "models. These surrogate models are used to explore the multi-parameter design space, identifying design\n",
    "criteria that optimize different performance objectives, such as temperature stability, efficiency, and\n",
    "cooling rate. An inverse-heat-transfer technique is applied to determine the dynamic rate of cooling dur-\n",
    "ing the event. Cooling rapidly peaks after 0.5-1 s, reaching approximately 30-50 W cm$^{-2}$, and steadily\n",
    "decays thereafter. The cooling device maintains stable system temperatures ($\\pm$5 °C) during heat loads\n",
    "of up to 104 W cm$^{-2}$."
   ]
  },
  {
   "cell_type": "markdown",
   "metadata": {},
   "source": [
    "<img src=\"enderer-pic.jpg\">"
   ]
  },
  {
   "cell_type": "markdown",
   "metadata": {},
   "source": [
    "## Dynamic Thermal Management Of Silicon Interconnect Fabric Using Flash Cooling "
   ]
  },
  {
   "cell_type": "markdown",
   "metadata": {},
   "source": [
    "Silicon interconnect fabric (Si-IF) is a promising packaging\n",
    "technology for system scaling. The direct attachment of\n",
    "heterogeneous dies on the Si-IF with compact die placement\n",
    "provides various improvements in electrical system\n",
    "performance. However, the high density of active silicon area\n",
    "leads to intense heat fluxes, and the resulting temperature\n",
    "distribution can cause significant performance degradation and\n",
    "system reliability issues. In this work, an efficient and dynamic\n",
    "cooling architecture is demonstrated for cooling of the Si-IF\n",
    "using thermally conductive terminal blocks that also deliver\n",
    "current. Flash cooling has been adopted, which is a new\n",
    "dynamic, high-heat flux cooling technique to mitigate\n",
    "temperature spikes due to episodic heat pulses in electronic\n",
    "components. A dynamically controlled flow loop for flash\n",
    "cooling is reported that is designed to be flexible and robust at\n",
    "various conditions to quantify and benchmark flash cooling.\n",
    "Results for a single terminal block bonded to a silicon die are\n",
    "presented for a single flash cooling pulse and a constant heat\n",
    "load condition with repeated flash cooling cycles."
   ]
  },
  {
   "cell_type": "markdown",
   "metadata": {},
   "source": [
    "<img src = \"shah-pic.jpg\">"
   ]
  }
 ],
 "metadata": {
  "kernelspec": {
   "display_name": "Python 3",
   "language": "python",
   "name": "python3"
  },
  "language_info": {
   "codemirror_mode": {
    "name": "ipython",
    "version": 3
   },
   "file_extension": ".py",
   "mimetype": "text/x-python",
   "name": "python",
   "nbconvert_exporter": "python",
   "pygments_lexer": "ipython3",
   "version": "3.8.0"
  }
 },
 "nbformat": 4,
 "nbformat_minor": 4
}
